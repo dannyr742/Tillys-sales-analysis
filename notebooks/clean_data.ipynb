{
 "cells": [
  {
   "cell_type": "code",
   "execution_count": 32,
   "id": "f14e1aa9",
   "metadata": {},
   "outputs": [],
   "source": [
    "import pandas as pd\n",
    "import numpy as np"
   ]
  },
  {
   "cell_type": "code",
   "execution_count": 33,
   "id": "e77326ec",
   "metadata": {},
   "outputs": [],
   "source": [
    "# Load the raw data\n",
    "def load_data(file_path):\n",
    "    \"\"\"Load the raw sales data from a CSV file.\"\"\"\n",
    "    return pd.read_csv(file_path)"
   ]
  },
  {
   "cell_type": "code",
   "execution_count": 34,
   "id": "b20bc327",
   "metadata": {},
   "outputs": [],
   "source": [
    "# Clean the data\n",
    "def clean_data(df):\n",
    "    \"\"\"Clean and preprocess the sales data.\"\"\"\n",
    "    # Remove duplicates\n",
    "    df = df.drop_duplicates()\n",
    "    \n",
    "    # Remove rows with missing values\n",
    "    df = df.dropna()\n",
    "    \n",
    "    # Standardize category names\n",
    "    df['Category'] = df['Category'].str.strip().str.title()\n",
    "    \n",
    "    # Convert 'Date' column to datetime\n",
    "    df['Date'] = pd.to_datetime(df['Date'], format=\"%Y-%m-%d\")\n",
    "    \n",
    "    #Convert 'Time' column to a proper time format\n",
    "    df['Time'] = pd.to_datetime(df['Time'], format=\"%H:%M\").dt.time\n",
    "    \n",
    "    # Ensure numeric columns are correctly typed\n",
    "    df['Price'] = pd.to_numeric(df['Price'], errors='coerce')\n",
    "    df['Quantity'] = pd.to_numeric(df['Quantity'], errors='coerce')\n",
    "    df['Total_Spent'] = pd.to_numeric(df['Total_Spent'], errors='coerce')\n",
    "    \n",
    "    return df"
   ]
  },
  {
   "cell_type": "code",
   "execution_count": 35,
   "id": "f19e9cb9",
   "metadata": {},
   "outputs": [],
   "source": [
    "# Save cleaned data to a new CSV file\n",
    "def save_cleaned_data(df, output_path):\n",
    "    \"\"\"Save the cleaned data to a new CSV file.\"\"\"\n",
    "    df.to_csv(output_path, index=False)\n",
    "    print(f\"Cleaned data saved to {output_path}\")"
   ]
  },
  {
   "cell_type": "code",
   "execution_count": 36,
   "id": "4812aad7",
   "metadata": {},
   "outputs": [],
   "source": [
    "# Main script logic\n",
    "def main():\n",
    "    input_file = \"../data/raw/tillys_mock_sales_data.csv\"\n",
    "    output_file = \"../data/processed/cleaned_sales_data.csv\"\n",
    "    \n",
    "    # Load raw data\n",
    "    print(\"Loading raw data...\")\n",
    "    raw_data = load_data(input_file)\n",
    "    \n",
    "    # Clean the data\n",
    "    print(\"Cleaning data...\")\n",
    "    cleaned_data = clean_data(raw_data)\n",
    "    \n",
    "    # Save cleaned data\n",
    "    print(\"Saving clean data...\")\n",
    "    save_cleaned_data(cleaned_data, output_file)"
   ]
  },
  {
   "cell_type": "code",
   "execution_count": 37,
   "id": "6b64f6e1",
   "metadata": {},
   "outputs": [
    {
     "name": "stdout",
     "output_type": "stream",
     "text": [
      "Loading raw data...\n",
      "Cleaning data...\n",
      "Saving clean data\n",
      "Cleaned data saved to ../data/processed/cleaned_sales_data.csv\n"
     ]
    }
   ],
   "source": [
    "if __name__ == \"__main__\":\n",
    "    main()"
   ]
  },
  {
   "cell_type": "code",
   "execution_count": null,
   "id": "cd9af07b",
   "metadata": {},
   "outputs": [],
   "source": []
  }
 ],
 "metadata": {
  "kernelspec": {
   "display_name": "Python 3 (ipykernel)",
   "language": "python",
   "name": "python3"
  },
  "language_info": {
   "codemirror_mode": {
    "name": "ipython",
    "version": 3
   },
   "file_extension": ".py",
   "mimetype": "text/x-python",
   "name": "python",
   "nbconvert_exporter": "python",
   "pygments_lexer": "ipython3",
   "version": "3.9.13"
  }
 },
 "nbformat": 4,
 "nbformat_minor": 5
}
